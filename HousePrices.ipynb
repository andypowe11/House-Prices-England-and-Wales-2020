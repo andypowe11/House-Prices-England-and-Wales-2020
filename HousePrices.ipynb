{
 "cells": [
  {
   "cell_type": "markdown",
   "metadata": {},
   "source": [
    "# UK Price Paid Data 2020\n",
    "\n",
    "Plot mean house prices by county (England and Wales) on UK map.\n",
    "\n",
    "See https://www.gov.uk/government/statistical-data-sets/price-paid-data-downloads for source data."
   ]
  },
  {
   "cell_type": "code",
   "execution_count": 914,
   "metadata": {},
   "outputs": [],
   "source": [
    "# Import libaries\n",
    "import numpy as np # import numpy\n",
    "import pandas as pd # import pandas\n",
    "import geopandas as gpd # import geopandas\n",
    "import matplotlib.pyplot as plt\n",
    "#import matplotlib.cm\n",
    "import sys"
   ]
  },
  {
   "cell_type": "markdown",
   "metadata": {},
   "source": [
    "Let's load the source data into a pandas dataframe so that we can have a look at it. The raw data doesn't have column headings so we'll add some."
   ]
  },
  {
   "cell_type": "code",
   "execution_count": 915,
   "metadata": {},
   "outputs": [],
   "source": [
    "# Read Price Paid Transaction Data for 2020\n",
    "# https://www.gov.uk/government/statistical-data-sets/price-paid-data-downloads \n",
    "pptd = pd.read_csv('./data/pp-2020.csv', \\\n",
    "                   header=None, \\\n",
    "                   names=[\"Transaction_ID\",\"Price\",\"Date_of_Transfer\",\"Postcode\",\"Property_Type\",\"Old_New\", \\\n",
    "                          \"Duration\",\"PAON\",\"SAON\",\"Street\",\"Locality\",\"Town_City\",\"District\",\"County\", \\\n",
    "                          \"PPD_Category_Type\",\"Record_Status\"])"
   ]
  },
  {
   "cell_type": "markdown",
   "metadata": {},
   "source": [
    "This is a summary of what each column represents:\n",
    "\n",
    "|   #  | Data item | Explanation (where appropriate) | \n",
    "| --- |:--------- |:------------------------------- | \n",
    "| 0 | Transaction unique identifier | A reference number which is generated automatically recording each published sale. |\n",
    "| -  |            -                   | The number is unique and will change each time a sale is recorded. |\n",
    "| 1 | Price | Sale price stated on the transfer deed. |\n",
    "| 2 | Date of Transfer | Date when the sale was completed, as stated on the transfer deed. |\n",
    "| 3 | Postcode | This is the postcode used at the time of the original transaction. |\n",
    "| -  | -  | Note that postcodes can be reallocated and these changes are not reflected in the Price Paid Dataset. |\n",
    "| 4 | Property Type | D = Detached, S = Semi-Detached, T = Terraced, F = Flats/Maisonettes, O = Other |\n",
    "|  - | -  | Note that: |\n",
    "|  - | -  | - we only record the above categories to describe property type, we do not separately identify bungalows. |\n",
    "| -  | -  | - end-of-terrace properties are included in the Terraced category above. |\n",
    "| -  | -  | - ‘Other’ is only valid where the transaction relates to a property type that is not covered by existing values. |\n",
    "| 5 | Old/New | Indicates the age of the property and applies to all price paid transactions, |\n",
    "| -  |  - | residential and non-residential. |\n",
    "| -  | -  | Y = a newly built property, N = an established residential building |\n",
    "| 6 | Duration | Relates to the tenure: F = Freehold, L= Leasehold etc. |\n",
    "|  - |  -  | Note that HM Land Registry does not record leases of 7 years or less in the Price Paid Dataset. |\n",
    "| 7 | PAON | Primary Addressable Object Name. Typically the house number or name. |\n",
    "| 8 | SAON | Secondary Addressable Object Name. Where a property has been divided into separate |\n",
    "|  - | -  | units (for example, flats), the PAON (above) will identify the building and a SAON will |\n",
    "|  - | -  | be specified that identifies the separate unit/flat.  |\n",
    "| 9 | Street | -  |\n",
    "| 10 | Locality |  - |\n",
    "| 11 | Town/City | -  |\n",
    "| 12 | District |  - |\n",
    "| 13 | County | -  |\n",
    "| 14 | PPD Category Type | Indicates the type of Price Paid transaction. |\n",
    "|  -  |  - | A = Standard Price Paid entry, includes single residential property sold for value. |\n",
    "|   - | -  | B = Additional Price Paid entry including transfers under a power of sale/repossessions, |\n",
    "|  -  |  - | buy-to-lets (where they can be identified by a Mortgage) and transfers to non-private individuals. |\n",
    "|   - |  - | Note that category B does not separately identify the transaction types stated. |\n",
    "|  -  |  - | HM Land Registry has been collecting information on Category A transactions from |\n",
    "|   - | -  | January 1995. Category B transactions were identified from October 2013. |\n",
    "| 15 | Record Status - monthly file only | Indicates additions, changes and deletions to the records.(see guide below). |\n",
    "|  -  |  - | A = Addition |\n",
    "|   - | -  | C = Change |\n",
    "|   - | -  | D = Delete. |\n",
    "| -   |  - | Note that where a transaction changes category type due to misallocation (as above) |\n",
    "|  -  |  - | it will be deleted from the original category type and added to the correct category with |\n",
    "| -   | -  | a new transaction unique identifier. |\n"
   ]
  },
  {
   "cell_type": "code",
   "execution_count": 916,
   "metadata": {},
   "outputs": [
    {
     "data": {
      "text/plain": [
       "(377340, 16)"
      ]
     },
     "execution_count": 916,
     "metadata": {},
     "output_type": "execute_result"
    }
   ],
   "source": [
    "pptd.shape"
   ]
  },
  {
   "cell_type": "code",
   "execution_count": 917,
   "metadata": {},
   "outputs": [
    {
     "data": {
      "text/plain": [
       "283541"
      ]
     },
     "execution_count": 917,
     "metadata": {},
     "output_type": "execute_result"
    }
   ],
   "source": [
    "len(pptd.Postcode.unique())"
   ]
  },
  {
   "cell_type": "code",
   "execution_count": 918,
   "metadata": {},
   "outputs": [
    {
     "data": {
      "text/plain": [
       "111"
      ]
     },
     "execution_count": 918,
     "metadata": {},
     "output_type": "execute_result"
    }
   ],
   "source": [
    "len(pptd.County.unique())"
   ]
  },
  {
   "cell_type": "markdown",
   "metadata": {},
   "source": [
    "We have about 380,000 data points and each point has 16 variables (as per the column names above). There are about 280,000 unique postcodes and 111 county names."
   ]
  },
  {
   "cell_type": "code",
   "execution_count": 919,
   "metadata": {},
   "outputs": [
    {
     "data": {
      "text/html": [
       "<div>\n",
       "<style scoped>\n",
       "    .dataframe tbody tr th:only-of-type {\n",
       "        vertical-align: middle;\n",
       "    }\n",
       "\n",
       "    .dataframe tbody tr th {\n",
       "        vertical-align: top;\n",
       "    }\n",
       "\n",
       "    .dataframe thead th {\n",
       "        text-align: right;\n",
       "    }\n",
       "</style>\n",
       "<table border=\"1\" class=\"dataframe\">\n",
       "  <thead>\n",
       "    <tr style=\"text-align: right;\">\n",
       "      <th></th>\n",
       "      <th>Transaction_ID</th>\n",
       "      <th>Price</th>\n",
       "      <th>Date_of_Transfer</th>\n",
       "      <th>Postcode</th>\n",
       "      <th>Property_Type</th>\n",
       "      <th>Old_New</th>\n",
       "      <th>Duration</th>\n",
       "      <th>PAON</th>\n",
       "      <th>SAON</th>\n",
       "      <th>Street</th>\n",
       "      <th>Locality</th>\n",
       "      <th>Town_City</th>\n",
       "      <th>District</th>\n",
       "      <th>County</th>\n",
       "      <th>PPD_Category_Type</th>\n",
       "      <th>Record_Status</th>\n",
       "    </tr>\n",
       "  </thead>\n",
       "  <tbody>\n",
       "    <tr>\n",
       "      <th>0</th>\n",
       "      <td>{9DBAD222-1032-6EB3-E053-6B04A8C0F257}</td>\n",
       "      <td>138000</td>\n",
       "      <td>2020-01-17 00:00</td>\n",
       "      <td>DN22 0AU</td>\n",
       "      <td>D</td>\n",
       "      <td>N</td>\n",
       "      <td>F</td>\n",
       "      <td>3</td>\n",
       "      <td>NaN</td>\n",
       "      <td>ST MARTINS ROAD</td>\n",
       "      <td>NORTH LEVERTON</td>\n",
       "      <td>RETFORD</td>\n",
       "      <td>BASSETLAW</td>\n",
       "      <td>NOTTINGHAMSHIRE</td>\n",
       "      <td>B</td>\n",
       "      <td>A</td>\n",
       "    </tr>\n",
       "    <tr>\n",
       "      <th>1</th>\n",
       "      <td>{9DBAD222-103A-6EB3-E053-6B04A8C0F257}</td>\n",
       "      <td>72000</td>\n",
       "      <td>2020-01-17 00:00</td>\n",
       "      <td>NG17 3HD</td>\n",
       "      <td>T</td>\n",
       "      <td>N</td>\n",
       "      <td>F</td>\n",
       "      <td>79</td>\n",
       "      <td>NaN</td>\n",
       "      <td>INSTITUTE STREET</td>\n",
       "      <td>STANTON HILL</td>\n",
       "      <td>SUTTON-IN-ASHFIELD</td>\n",
       "      <td>ASHFIELD</td>\n",
       "      <td>NOTTINGHAMSHIRE</td>\n",
       "      <td>A</td>\n",
       "      <td>A</td>\n",
       "    </tr>\n",
       "    <tr>\n",
       "      <th>2</th>\n",
       "      <td>{9DBAD222-103B-6EB3-E053-6B04A8C0F257}</td>\n",
       "      <td>207500</td>\n",
       "      <td>2020-01-03 00:00</td>\n",
       "      <td>NG18 3NY</td>\n",
       "      <td>D</td>\n",
       "      <td>N</td>\n",
       "      <td>F</td>\n",
       "      <td>34</td>\n",
       "      <td>NaN</td>\n",
       "      <td>WYNNDALE DRIVE</td>\n",
       "      <td>NaN</td>\n",
       "      <td>MANSFIELD</td>\n",
       "      <td>MANSFIELD</td>\n",
       "      <td>NOTTINGHAMSHIRE</td>\n",
       "      <td>A</td>\n",
       "      <td>A</td>\n",
       "    </tr>\n",
       "    <tr>\n",
       "      <th>3</th>\n",
       "      <td>{9DBAD222-103F-6EB3-E053-6B04A8C0F257}</td>\n",
       "      <td>320000</td>\n",
       "      <td>2020-01-10 00:00</td>\n",
       "      <td>NG13 9PW</td>\n",
       "      <td>S</td>\n",
       "      <td>N</td>\n",
       "      <td>F</td>\n",
       "      <td>HALL FARM COTTAGE</td>\n",
       "      <td>1</td>\n",
       "      <td>CHAPEL LANE</td>\n",
       "      <td>GRANBY</td>\n",
       "      <td>NOTTINGHAM</td>\n",
       "      <td>RUSHCLIFFE</td>\n",
       "      <td>NOTTINGHAMSHIRE</td>\n",
       "      <td>A</td>\n",
       "      <td>A</td>\n",
       "    </tr>\n",
       "    <tr>\n",
       "      <th>4</th>\n",
       "      <td>{9DBAD222-1043-6EB3-E053-6B04A8C0F257}</td>\n",
       "      <td>137000</td>\n",
       "      <td>2020-01-03 00:00</td>\n",
       "      <td>NG4 2DP</td>\n",
       "      <td>D</td>\n",
       "      <td>N</td>\n",
       "      <td>F</td>\n",
       "      <td>46</td>\n",
       "      <td>NaN</td>\n",
       "      <td>COLWICK MANOR FARM</td>\n",
       "      <td>COLWICK</td>\n",
       "      <td>NOTTINGHAM</td>\n",
       "      <td>GEDLING</td>\n",
       "      <td>NOTTINGHAMSHIRE</td>\n",
       "      <td>A</td>\n",
       "      <td>A</td>\n",
       "    </tr>\n",
       "  </tbody>\n",
       "</table>\n",
       "</div>"
      ],
      "text/plain": [
       "                           Transaction_ID   Price  Date_of_Transfer  Postcode  \\\n",
       "0  {9DBAD222-1032-6EB3-E053-6B04A8C0F257}  138000  2020-01-17 00:00  DN22 0AU   \n",
       "1  {9DBAD222-103A-6EB3-E053-6B04A8C0F257}   72000  2020-01-17 00:00  NG17 3HD   \n",
       "2  {9DBAD222-103B-6EB3-E053-6B04A8C0F257}  207500  2020-01-03 00:00  NG18 3NY   \n",
       "3  {9DBAD222-103F-6EB3-E053-6B04A8C0F257}  320000  2020-01-10 00:00  NG13 9PW   \n",
       "4  {9DBAD222-1043-6EB3-E053-6B04A8C0F257}  137000  2020-01-03 00:00   NG4 2DP   \n",
       "\n",
       "  Property_Type Old_New Duration               PAON SAON              Street  \\\n",
       "0             D       N        F                  3  NaN     ST MARTINS ROAD   \n",
       "1             T       N        F                 79  NaN    INSTITUTE STREET   \n",
       "2             D       N        F                 34  NaN      WYNNDALE DRIVE   \n",
       "3             S       N        F  HALL FARM COTTAGE    1         CHAPEL LANE   \n",
       "4             D       N        F                 46  NaN  COLWICK MANOR FARM   \n",
       "\n",
       "         Locality           Town_City    District           County  \\\n",
       "0  NORTH LEVERTON             RETFORD   BASSETLAW  NOTTINGHAMSHIRE   \n",
       "1    STANTON HILL  SUTTON-IN-ASHFIELD    ASHFIELD  NOTTINGHAMSHIRE   \n",
       "2             NaN           MANSFIELD   MANSFIELD  NOTTINGHAMSHIRE   \n",
       "3          GRANBY          NOTTINGHAM  RUSHCLIFFE  NOTTINGHAMSHIRE   \n",
       "4         COLWICK          NOTTINGHAM     GEDLING  NOTTINGHAMSHIRE   \n",
       "\n",
       "  PPD_Category_Type Record_Status  \n",
       "0                 B             A  \n",
       "1                 A             A  \n",
       "2                 A             A  \n",
       "3                 A             A  \n",
       "4                 A             A  "
      ]
     },
     "execution_count": 919,
     "metadata": {},
     "output_type": "execute_result"
    }
   ],
   "source": [
    "pptd.head()"
   ]
  },
  {
   "cell_type": "markdown",
   "metadata": {},
   "source": [
    "Let's see what the counties look like. Notice that we have areas like 'Greater London' rather than individual London boroughs."
   ]
  },
  {
   "cell_type": "code",
   "execution_count": 920,
   "metadata": {},
   "outputs": [
    {
     "name": "stdout",
     "output_type": "stream",
     "text": [
      "['NOTTINGHAMSHIRE' 'CITY OF NOTTINGHAM' 'NORTH YORKSHIRE' 'YORK'\n",
      " 'GREATER MANCHESTER' 'OXFORDSHIRE' 'STAFFORDSHIRE' 'STOKE-ON-TRENT'\n",
      " 'WEST MIDLANDS' 'SUFFOLK' 'ISLE OF WIGHT' 'GREATER LONDON' 'KENT'\n",
      " 'MEDWAY' 'NORFOLK' 'MILTON KEYNES' 'BUCKINGHAMSHIRE'\n",
      " 'CITY OF PETERBOROUGH' 'CAMBRIDGESHIRE' 'WOKINGHAM' 'SLOUGH'\n",
      " 'BRACKNELL FOREST' 'READING' 'WINDSOR AND MAIDENHEAD' 'WEST BERKSHIRE'\n",
      " 'CITY OF KINGSTON UPON HULL' 'NORTH EAST LINCOLNSHIRE'\n",
      " 'NORTH LINCOLNSHIRE' 'EAST RIDING OF YORKSHIRE' 'CITY OF BRISTOL' 'ESSEX'\n",
      " 'SOUTHEND-ON-SEA' 'THURROCK' 'SOUTH GLOUCESTERSHIRE' 'GLOUCESTERSHIRE'\n",
      " 'HERTFORDSHIRE' 'HAMPSHIRE' 'PORTSMOUTH' 'SOUTHAMPTON'\n",
      " 'BOURNEMOUTH, CHRISTCHURCH AND POOLE' 'EAST SUSSEX' 'BRIGHTON AND HOVE'\n",
      " 'WORCESTERSHIRE' 'WEST YORKSHIRE' 'HEREFORDSHIRE'\n",
      " 'CHESHIRE WEST AND CHESTER' 'MERSEYSIDE' 'STOCKTON-ON-TEES'\n",
      " 'NORTHAMPTONSHIRE' 'CHESHIRE EAST' 'WARRINGTON'\n",
      " 'BATH AND NORTH EAST SOMERSET' 'NORTH SOMERSET' 'HALTON' 'GWYNEDD'\n",
      " 'SWANSEA' 'PEMBROKESHIRE' 'DEVON' 'CITY OF PLYMOUTH' 'TORBAY'\n",
      " 'MIDDLESBROUGH' 'HARTLEPOOL' 'SOUTH YORKSHIRE' 'THE VALE OF GLAMORGAN'\n",
      " 'CARDIFF' 'TORFAEN' 'MERTHYR TYDFIL' 'CAERPHILLY' 'NEATH PORT TALBOT'\n",
      " 'RHONDDA CYNON TAFF' 'NEWPORT' 'MONMOUTHSHIRE' 'FLINTSHIRE'\n",
      " 'BLAENAU GWENT' 'DENBIGHSHIRE' 'CARMARTHENSHIRE' 'BRIDGEND'\n",
      " 'REDCAR AND CLEVELAND' 'DARLINGTON' 'CORNWALL' 'CENTRAL BEDFORDSHIRE'\n",
      " 'LUTON' 'BEDFORD' 'SOMERSET' 'WREXHAM' 'POWYS' 'ISLE OF ANGLESEY'\n",
      " 'CEREDIGION' 'CONWY' 'DORSET' 'WEST SUSSEX' 'SURREY' 'COUNTY DURHAM'\n",
      " 'TYNE AND WEAR' 'CUMBRIA' 'CITY OF DERBY' 'DERBYSHIRE' 'SHROPSHIRE'\n",
      " 'LINCOLNSHIRE' 'BLACKPOOL' 'LANCASHIRE' 'BLACKBURN WITH DARWEN' 'WREKIN'\n",
      " 'WARWICKSHIRE' 'NORTHUMBERLAND' 'RUTLAND' 'LEICESTERSHIRE' 'LEICESTER'\n",
      " 'WILTSHIRE' 'SWINDON' 'ISLES OF SCILLY']\n"
     ]
    }
   ],
   "source": [
    "print(pptd.County.unique())"
   ]
  },
  {
   "cell_type": "markdown",
   "metadata": {},
   "source": [
    "The county names look a bit rubbish so let's tidy them up a bit."
   ]
  },
  {
   "cell_type": "code",
   "execution_count": 921,
   "metadata": {},
   "outputs": [],
   "source": [
    "# Tidy up county names\n",
    "pptd[\"County\"] = pptd[\"County\"].str.title()\n",
    "pptd[\"County\"] = pptd[\"County\"].str.replace('-On-', '-on-', regex=True)\n",
    "pptd[\"County\"] = pptd[\"County\"].str.replace(' Upon ', ' upon ', regex=True)\n",
    "pptd[\"County\"] = pptd[\"County\"].str.replace(' And ', ' and ', regex=True)\n",
    "pptd[\"County\"] = pptd[\"County\"].str.replace(' With ', ' with ', regex=True)\n",
    "pptd[\"County\"] = pptd[\"County\"].str.replace(' Of ', ' of ', regex=True)\n",
    "pptd[\"County\"] = pptd[\"County\"].str.replace('City of ', '', regex=True)\n",
    "pptd[\"County\"] = pptd[\"County\"].str.replace('The Vale', 'Vale', regex=True)\n",
    "pptd[\"County\"] = pptd[\"County\"].str.replace(' Taff', ' Taf', regex=True)"
   ]
  },
  {
   "cell_type": "code",
   "execution_count": 922,
   "metadata": {},
   "outputs": [
    {
     "name": "stdout",
     "output_type": "stream",
     "text": [
      "['Nottinghamshire' 'Nottingham' 'North Yorkshire' 'York'\n",
      " 'Greater Manchester' 'Oxfordshire' 'Staffordshire' 'Stoke-on-Trent'\n",
      " 'West Midlands' 'Suffolk' 'Isle of Wight' 'Greater London' 'Kent'\n",
      " 'Medway' 'Norfolk' 'Milton Keynes' 'Buckinghamshire' 'Peterborough'\n",
      " 'Cambridgeshire' 'Wokingham' 'Slough' 'Bracknell Forest' 'Reading'\n",
      " 'Windsor and Maidenhead' 'West Berkshire' 'Kingston upon Hull'\n",
      " 'North East Lincolnshire' 'North Lincolnshire' 'East Riding of Yorkshire'\n",
      " 'Bristol' 'Essex' 'Southend-on-Sea' 'Thurrock' 'South Gloucestershire'\n",
      " 'Gloucestershire' 'Hertfordshire' 'Hampshire' 'Portsmouth' 'Southampton'\n",
      " 'Bournemouth, Christchurch and Poole' 'East Sussex' 'Brighton and Hove'\n",
      " 'Worcestershire' 'West Yorkshire' 'Herefordshire'\n",
      " 'Cheshire West and Chester' 'Merseyside' 'Stockton-on-Tees'\n",
      " 'Northamptonshire' 'Cheshire East' 'Warrington'\n",
      " 'Bath and North East Somerset' 'North Somerset' 'Halton' 'Gwynedd'\n",
      " 'Swansea' 'Pembrokeshire' 'Devon' 'Plymouth' 'Torbay' 'Middlesbrough'\n",
      " 'Hartlepool' 'South Yorkshire' 'Vale of Glamorgan' 'Cardiff' 'Torfaen'\n",
      " 'Merthyr Tydfil' 'Caerphilly' 'Neath Port Talbot' 'Rhondda Cynon Taf'\n",
      " 'Newport' 'Monmouthshire' 'Flintshire' 'Blaenau Gwent' 'Denbighshire'\n",
      " 'Carmarthenshire' 'Bridgend' 'Redcar and Cleveland' 'Darlington'\n",
      " 'Cornwall' 'Central Bedfordshire' 'Luton' 'Bedford' 'Somerset' 'Wrexham'\n",
      " 'Powys' 'Isle of Anglesey' 'Ceredigion' 'Conwy' 'Dorset' 'West Sussex'\n",
      " 'Surrey' 'County Durham' 'Tyne and Wear' 'Cumbria' 'Derby' 'Derbyshire'\n",
      " 'Shropshire' 'Lincolnshire' 'Blackpool' 'Lancashire'\n",
      " 'Blackburn with Darwen' 'Wrekin' 'Warwickshire' 'Northumberland'\n",
      " 'Rutland' 'Leicestershire' 'Leicester' 'Wiltshire' 'Swindon'\n",
      " 'Isles of Scilly']\n"
     ]
    }
   ],
   "source": [
    "print(pptd.County.unique())"
   ]
  },
  {
   "cell_type": "markdown",
   "metadata": {},
   "source": [
    "That looks better. Now we'll extract just the columns we are interested in - the county name and the price paid - and rename the columns slighty (so that the county name matches the naming used in the shapefile below)."
   ]
  },
  {
   "cell_type": "code",
   "execution_count": 923,
   "metadata": {},
   "outputs": [],
   "source": [
    "merge_df = pptd[['County', 'Price']]\n",
    "merge_df = merge_df.rename(columns={\"County\": \"ctyua19nm\", \"Price\": \"mean_price\"})"
   ]
  },
  {
   "cell_type": "markdown",
   "metadata": {},
   "source": [
    "Finally, we'll work out the mean price paid in each county, giving us a dataframe with 111 rows (indexed with the county name)."
   ]
  },
  {
   "cell_type": "code",
   "execution_count": 924,
   "metadata": {},
   "outputs": [],
   "source": [
    "merge_df = merge_df.groupby(['ctyua19nm']).mean()"
   ]
  },
  {
   "cell_type": "code",
   "execution_count": 925,
   "metadata": {},
   "outputs": [
    {
     "data": {
      "text/plain": [
       "(111, 1)"
      ]
     },
     "execution_count": 925,
     "metadata": {},
     "output_type": "execute_result"
    }
   ],
   "source": [
    "merge_df.shape"
   ]
  },
  {
   "cell_type": "code",
   "execution_count": 926,
   "metadata": {},
   "outputs": [
    {
     "data": {
      "text/html": [
       "<div>\n",
       "<style scoped>\n",
       "    .dataframe tbody tr th:only-of-type {\n",
       "        vertical-align: middle;\n",
       "    }\n",
       "\n",
       "    .dataframe tbody tr th {\n",
       "        vertical-align: top;\n",
       "    }\n",
       "\n",
       "    .dataframe thead th {\n",
       "        text-align: right;\n",
       "    }\n",
       "</style>\n",
       "<table border=\"1\" class=\"dataframe\">\n",
       "  <thead>\n",
       "    <tr style=\"text-align: right;\">\n",
       "      <th></th>\n",
       "      <th>mean_price</th>\n",
       "    </tr>\n",
       "    <tr>\n",
       "      <th>ctyua19nm</th>\n",
       "      <th></th>\n",
       "    </tr>\n",
       "  </thead>\n",
       "  <tbody>\n",
       "    <tr>\n",
       "      <th>Bath and North East Somerset</th>\n",
       "      <td>426447.868178</td>\n",
       "    </tr>\n",
       "    <tr>\n",
       "      <th>Bedford</th>\n",
       "      <td>316414.396195</td>\n",
       "    </tr>\n",
       "    <tr>\n",
       "      <th>Blackburn with Darwen</th>\n",
       "      <td>146448.218223</td>\n",
       "    </tr>\n",
       "    <tr>\n",
       "      <th>Blackpool</th>\n",
       "      <td>130203.005172</td>\n",
       "    </tr>\n",
       "    <tr>\n",
       "      <th>Blaenau Gwent</th>\n",
       "      <td>110911.826879</td>\n",
       "    </tr>\n",
       "  </tbody>\n",
       "</table>\n",
       "</div>"
      ],
      "text/plain": [
       "                                 mean_price\n",
       "ctyua19nm                                  \n",
       "Bath and North East Somerset  426447.868178\n",
       "Bedford                       316414.396195\n",
       "Blackburn with Darwen         146448.218223\n",
       "Blackpool                     130203.005172\n",
       "Blaenau Gwent                 110911.826879"
      ]
     },
     "execution_count": 926,
     "metadata": {},
     "output_type": "execute_result"
    }
   ],
   "source": [
    "merge_df.head()"
   ]
  },
  {
   "cell_type": "markdown",
   "metadata": {},
   "source": [
    "Now we need some map data."
   ]
  },
  {
   "cell_type": "code",
   "execution_count": 927,
   "metadata": {},
   "outputs": [],
   "source": [
    "# Load the UK shapefile\n",
    "# https://geoportal.statistics.gov.uk/datasets/counties-december-2019-boundaries-en-bfe\n",
    "# This provides shape data for UK counties\n",
    "map_df = gpd.read_file(\"data/Counties_and_Unitary_Authorities__December_2019__Boundaries_UK_BFE.shp\")"
   ]
  },
  {
   "cell_type": "code",
   "execution_count": 928,
   "metadata": {},
   "outputs": [
    {
     "data": {
      "text/plain": [
       "(216, 11)"
      ]
     },
     "execution_count": 928,
     "metadata": {},
     "output_type": "execute_result"
    }
   ],
   "source": [
    "map_df.shape"
   ]
  },
  {
   "cell_type": "code",
   "execution_count": 929,
   "metadata": {},
   "outputs": [
    {
     "data": {
      "text/html": [
       "<div>\n",
       "<style scoped>\n",
       "    .dataframe tbody tr th:only-of-type {\n",
       "        vertical-align: middle;\n",
       "    }\n",
       "\n",
       "    .dataframe tbody tr th {\n",
       "        vertical-align: top;\n",
       "    }\n",
       "\n",
       "    .dataframe thead th {\n",
       "        text-align: right;\n",
       "    }\n",
       "</style>\n",
       "<table border=\"1\" class=\"dataframe\">\n",
       "  <thead>\n",
       "    <tr style=\"text-align: right;\">\n",
       "      <th></th>\n",
       "      <th>objectid</th>\n",
       "      <th>ctyua19cd</th>\n",
       "      <th>ctyua19nm</th>\n",
       "      <th>ctyua19nmw</th>\n",
       "      <th>bng_e</th>\n",
       "      <th>bng_n</th>\n",
       "      <th>long</th>\n",
       "      <th>lat</th>\n",
       "      <th>st_areasha</th>\n",
       "      <th>st_lengths</th>\n",
       "      <th>geometry</th>\n",
       "    </tr>\n",
       "  </thead>\n",
       "  <tbody>\n",
       "    <tr>\n",
       "      <th>0</th>\n",
       "      <td>1</td>\n",
       "      <td>E06000001</td>\n",
       "      <td>Hartlepool</td>\n",
       "      <td>None</td>\n",
       "      <td>447160</td>\n",
       "      <td>531474</td>\n",
       "      <td>-1.27018</td>\n",
       "      <td>54.676140</td>\n",
       "      <td>9.834667e+07</td>\n",
       "      <td>66121.472650</td>\n",
       "      <td>POLYGON ((447213.900 537036.104, 447228.798 53...</td>\n",
       "    </tr>\n",
       "    <tr>\n",
       "      <th>1</th>\n",
       "      <td>2</td>\n",
       "      <td>E06000002</td>\n",
       "      <td>Middlesbrough</td>\n",
       "      <td>None</td>\n",
       "      <td>451141</td>\n",
       "      <td>516887</td>\n",
       "      <td>-1.21099</td>\n",
       "      <td>54.544670</td>\n",
       "      <td>5.455359e+07</td>\n",
       "      <td>41055.809886</td>\n",
       "      <td>POLYGON ((448489.897 522071.798, 448592.597 52...</td>\n",
       "    </tr>\n",
       "    <tr>\n",
       "      <th>2</th>\n",
       "      <td>3</td>\n",
       "      <td>E06000003</td>\n",
       "      <td>Redcar and Cleveland</td>\n",
       "      <td>None</td>\n",
       "      <td>464361</td>\n",
       "      <td>519597</td>\n",
       "      <td>-1.00608</td>\n",
       "      <td>54.567520</td>\n",
       "      <td>2.537854e+08</td>\n",
       "      <td>105292.138896</td>\n",
       "      <td>POLYGON ((455525.931 528406.654, 455724.632 52...</td>\n",
       "    </tr>\n",
       "    <tr>\n",
       "      <th>3</th>\n",
       "      <td>4</td>\n",
       "      <td>E06000004</td>\n",
       "      <td>Stockton-on-Tees</td>\n",
       "      <td>None</td>\n",
       "      <td>444940</td>\n",
       "      <td>518183</td>\n",
       "      <td>-1.30664</td>\n",
       "      <td>54.556911</td>\n",
       "      <td>2.097308e+08</td>\n",
       "      <td>108085.255484</td>\n",
       "      <td>POLYGON ((444157.002 527956.304, 444165.898 52...</td>\n",
       "    </tr>\n",
       "    <tr>\n",
       "      <th>4</th>\n",
       "      <td>5</td>\n",
       "      <td>E06000005</td>\n",
       "      <td>Darlington</td>\n",
       "      <td>None</td>\n",
       "      <td>428029</td>\n",
       "      <td>515648</td>\n",
       "      <td>-1.56835</td>\n",
       "      <td>54.535339</td>\n",
       "      <td>1.974757e+08</td>\n",
       "      <td>107206.401677</td>\n",
       "      <td>POLYGON ((423496.602 524724.299, 423497.204 52...</td>\n",
       "    </tr>\n",
       "  </tbody>\n",
       "</table>\n",
       "</div>"
      ],
      "text/plain": [
       "   objectid  ctyua19cd             ctyua19nm ctyua19nmw   bng_e   bng_n  \\\n",
       "0         1  E06000001            Hartlepool       None  447160  531474   \n",
       "1         2  E06000002         Middlesbrough       None  451141  516887   \n",
       "2         3  E06000003  Redcar and Cleveland       None  464361  519597   \n",
       "3         4  E06000004      Stockton-on-Tees       None  444940  518183   \n",
       "4         5  E06000005            Darlington       None  428029  515648   \n",
       "\n",
       "      long        lat    st_areasha     st_lengths  \\\n",
       "0 -1.27018  54.676140  9.834667e+07   66121.472650   \n",
       "1 -1.21099  54.544670  5.455359e+07   41055.809886   \n",
       "2 -1.00608  54.567520  2.537854e+08  105292.138896   \n",
       "3 -1.30664  54.556911  2.097308e+08  108085.255484   \n",
       "4 -1.56835  54.535339  1.974757e+08  107206.401677   \n",
       "\n",
       "                                            geometry  \n",
       "0  POLYGON ((447213.900 537036.104, 447228.798 53...  \n",
       "1  POLYGON ((448489.897 522071.798, 448592.597 52...  \n",
       "2  POLYGON ((455525.931 528406.654, 455724.632 52...  \n",
       "3  POLYGON ((444157.002 527956.304, 444165.898 52...  \n",
       "4  POLYGON ((423496.602 524724.299, 423497.204 52...  "
      ]
     },
     "execution_count": 929,
     "metadata": {},
     "output_type": "execute_result"
    }
   ],
   "source": [
    "map_df.head()"
   ]
  },
  {
   "cell_type": "code",
   "execution_count": 930,
   "metadata": {},
   "outputs": [
    {
     "name": "stdout",
     "output_type": "stream",
     "text": [
      "[u'Hartlepool' u'Middlesbrough' u'Redcar and Cleveland'\n",
      " u'Stockton-on-Tees' u'Darlington' u'Halton' u'Warrington'\n",
      " u'Blackburn with Darwen' u'Blackpool' u'Kingston upon Hull, City of'\n",
      " u'East Riding of Yorkshire' u'North East Lincolnshire'\n",
      " u'North Lincolnshire' u'York' u'Derby' u'Leicester' u'Rutland'\n",
      " u'Nottingham' u'Herefordshire, County of' u'Telford and Wrekin'\n",
      " u'Stoke-on-Trent' u'Bath and North East Somerset' u'Bristol, City of'\n",
      " u'North Somerset' u'South Gloucestershire' u'Plymouth' u'Torbay'\n",
      " u'Swindon' u'Peterborough' u'Luton' u'Southend-on-Sea' u'Thurrock'\n",
      " u'Medway' u'Bracknell Forest' u'West Berkshire' u'Reading' u'Slough'\n",
      " u'Windsor and Maidenhead' u'Wokingham' u'Milton Keynes'\n",
      " u'Brighton and Hove' u'Portsmouth' u'Southampton' u'Isle of Wight'\n",
      " u'County Durham' u'Cheshire East' u'Cheshire West and Chester'\n",
      " u'Shropshire' u'Cornwall' u'Isles of Scilly' u'Wiltshire' u'Bedford'\n",
      " u'Central Bedfordshire' u'Northumberland'\n",
      " u'Bournemouth, Christchurch and Poole' u'Dorset' u'Bolton' u'Bury'\n",
      " u'Manchester' u'Oldham' u'Rochdale' u'Salford' u'Stockport' u'Tameside'\n",
      " u'Trafford' u'Wigan' u'Knowsley' u'Liverpool' u'St. Helens' u'Sefton'\n",
      " u'Wirral' u'Barnsley' u'Doncaster' u'Rotherham' u'Sheffield'\n",
      " u'Newcastle upon Tyne' u'North Tyneside' u'South Tyneside' u'Sunderland'\n",
      " u'Birmingham' u'Coventry' u'Dudley' u'Sandwell' u'Solihull' u'Walsall'\n",
      " u'Wolverhampton' u'Bradford' u'Calderdale' u'Kirklees' u'Leeds'\n",
      " u'Wakefield' u'Gateshead' u'City of London' u'Barking and Dagenham'\n",
      " u'Barnet' u'Bexley' u'Brent' u'Bromley' u'Camden' u'Croydon' u'Ealing'\n",
      " u'Enfield' u'Greenwich' u'Hackney' u'Hammersmith and Fulham' u'Haringey'\n",
      " u'Harrow' u'Havering' u'Hillingdon' u'Hounslow' u'Islington'\n",
      " u'Kensington and Chelsea' u'Kingston upon Thames' u'Lambeth' u'Lewisham'\n",
      " u'Merton' u'Newham' u'Redbridge' u'Richmond upon Thames' u'Southwark'\n",
      " u'Sutton' u'Tower Hamlets' u'Waltham Forest' u'Wandsworth' u'Westminster'\n",
      " u'Buckinghamshire' u'Cambridgeshire' u'Cumbria' u'Derbyshire' u'Devon'\n",
      " u'East Sussex' u'Essex' u'Gloucestershire' u'Hampshire' u'Hertfordshire'\n",
      " u'Kent' u'Lancashire' u'Leicestershire' u'Lincolnshire' u'Norfolk'\n",
      " u'Northamptonshire' u'North Yorkshire' u'Nottinghamshire' u'Oxfordshire'\n",
      " u'Somerset' u'Staffordshire' u'Suffolk' u'Surrey' u'Warwickshire'\n",
      " u'West Sussex' u'Worcestershire' u'Antrim and Newtownabbey'\n",
      " u'Armagh City, Banbridge and Craigavon' u'Belfast'\n",
      " u'Causeway Coast and Glens' u'Derry City and Strabane'\n",
      " u'Fermanagh and Omagh' u'Lisburn and Castlereagh' u'Mid and East Antrim'\n",
      " u'Mid Ulster' u'Newry, Mourne and Down' u'Ards and North Down'\n",
      " u'Clackmannanshire' u'Dumfries and Galloway' u'East Ayrshire'\n",
      " u'East Lothian' u'East Renfrewshire' u'Na h-Eileanan Siar' u'Falkirk'\n",
      " u'Highland' u'Inverclyde' u'Midlothian' u'Moray' u'North Ayrshire'\n",
      " u'Orkney Islands' u'Scottish Borders' u'Shetland Islands'\n",
      " u'South Ayrshire' u'South Lanarkshire' u'Stirling' u'Aberdeen City'\n",
      " u'Aberdeenshire' u'Argyll and Bute' u'City of Edinburgh' u'Renfrewshire'\n",
      " u'West Dunbartonshire' u'West Lothian' u'Angus' u'Dundee City'\n",
      " u'East Dunbartonshire' u'Fife' u'Perth and Kinross' u'Glasgow City'\n",
      " u'North Lanarkshire' u'Isle of Anglesey' u'Gwynedd' u'Conwy'\n",
      " u'Denbighshire' u'Flintshire' u'Wrexham' u'Ceredigion' u'Pembrokeshire'\n",
      " u'Carmarthenshire' u'Swansea' u'Neath Port Talbot' u'Bridgend'\n",
      " u'Vale of Glamorgan' u'Cardiff' u'Rhondda Cynon Taf' u'Caerphilly'\n",
      " u'Blaenau Gwent' u'Torfaen' u'Monmouthshire' u'Newport' u'Powys'\n",
      " u'Merthyr Tydfil']\n"
     ]
    }
   ],
   "source": [
    "print(map_df.ctyua19nm.unique())"
   ]
  },
  {
   "cell_type": "markdown",
   "metadata": {},
   "source": [
    "Notice that we have 216 counties and unitary authorities listed, including all the individual London boroughs. Looks like we need to aggregate some of these areas up into broader areas. Comparing this data with what we have above, we need to deal with Greater London, Greater Manchester, Merseyside, Shropshire, South Yorkshire, Tyne and Wear, West Midlands and West Yorkshire.\n",
    "\n",
    "We'll start by selecting only the columns we need - the area name and the geometry for the shape."
   ]
  },
  {
   "cell_type": "code",
   "execution_count": 931,
   "metadata": {},
   "outputs": [],
   "source": [
    "map_df = map_df[['ctyua19nm', \"geometry\"]]"
   ]
  },
  {
   "cell_type": "markdown",
   "metadata": {},
   "source": [
    "Then, for each aggregrate area, we essentially copy the smaller areas into a temporary dataframe, removing each of them from the main dataframe (map_df) as we go. Then we 'dissolve' (i.e. merge together) the sub areas into a single aggregate area and add it back onto the end of the main dataframe.\n",
    "\n",
    "This step seems very complicated. There may well be a better way of doing this."
   ]
  },
  {
   "cell_type": "code",
   "execution_count": 932,
   "metadata": {},
   "outputs": [],
   "source": [
    "# Need to combine (and then remove) the following to replace with 'Greater London': 'City of London'\n",
    "# 'Barking and Dagenham' 'Barnet' 'Bexley' 'Brent' 'Bromley' 'Camden'\n",
    "# 'Croydon' 'Ealing' 'Enfield' 'Greenwich' 'Hackney'\n",
    "# 'Hammersmith and Fulham' 'Haringey' 'Harrow' 'Havering' 'Hillingdon'\n",
    "# 'Hounslow' 'Islington' 'Kensington and Chelsea' 'Kingston upon Thames'\n",
    "# 'Lambeth' 'Lewisham' 'Merton' 'Newham' 'Redbridge' 'Richmond upon Thames'\n",
    "# 'Southwark' 'Sutton' 'Tower Hamlets' 'Waltham Forest' 'Wandsworth'\n",
    "# 'Westminster'\n",
    "london = map_df[map_df['ctyua19nm'] == 'City of London']\n",
    "map_df.drop(map_df[map_df['ctyua19nm'] == 'City of London'].index, inplace = True) \n",
    "london = london.append(map_df[map_df['ctyua19nm'] == 'Barking and Dagenham'])\n",
    "map_df.drop(map_df[map_df['ctyua19nm'] == 'Barking and Dagenham'].index, inplace = True) \n",
    "london = london.append(map_df[map_df['ctyua19nm'] == 'Barnet'])\n",
    "map_df.drop(map_df[map_df['ctyua19nm'] == 'Barnet'].index, inplace = True) \n",
    "london = london.append(map_df[map_df['ctyua19nm'] == 'Bexley'])\n",
    "map_df.drop(map_df[map_df['ctyua19nm'] == 'Bexley'].index, inplace = True) \n",
    "london = london.append(map_df[map_df['ctyua19nm'] == 'Brent'])\n",
    "map_df.drop(map_df[map_df['ctyua19nm'] == 'Brent'].index, inplace = True) \n",
    "london = london.append(map_df[map_df['ctyua19nm'] == 'Bromley'])\n",
    "map_df.drop(map_df[map_df['ctyua19nm'] == 'Bromley'].index, inplace = True) \n",
    "london = london.append(map_df[map_df['ctyua19nm'] == 'Camden'])\n",
    "map_df.drop(map_df[map_df['ctyua19nm'] == 'Camden'].index, inplace = True) \n",
    "london = london.append(map_df[map_df['ctyua19nm'] == 'Croydon'])\n",
    "map_df.drop(map_df[map_df['ctyua19nm'] == 'Croydon'].index, inplace = True) \n",
    "london = london.append(map_df[map_df['ctyua19nm'] == 'Ealing'])\n",
    "map_df.drop(map_df[map_df['ctyua19nm'] == 'Ealing'].index, inplace = True) \n",
    "london = london.append(map_df[map_df['ctyua19nm'] == 'Enfield'])\n",
    "map_df.drop(map_df[map_df['ctyua19nm'] == 'Enfield'].index, inplace = True) \n",
    "london = london.append(map_df[map_df['ctyua19nm'] == 'Greenwich'])\n",
    "map_df.drop(map_df[map_df['ctyua19nm'] == 'Greenwich'].index, inplace = True)\n",
    "london = london.append(map_df[map_df['ctyua19nm'] == 'Hackney'])\n",
    "map_df.drop(map_df[map_df['ctyua19nm'] == 'Hackney'].index, inplace = True) \n",
    "london = london.append(map_df[map_df['ctyua19nm'] == 'Hammersmith and Fulham'])\n",
    "map_df.drop(map_df[map_df['ctyua19nm'] == 'Hammersmith and Fulham'].index, inplace = True) \n",
    "london = london.append(map_df[map_df['ctyua19nm'] == 'Haringey'])\n",
    "map_df.drop(map_df[map_df['ctyua19nm'] == 'Haringey'].index, inplace = True) \n",
    "london = london.append(map_df[map_df['ctyua19nm'] == 'Harrow'])\n",
    "map_df.drop(map_df[map_df['ctyua19nm'] == 'Harrow'].index, inplace = True) \n",
    "london = london.append(map_df[map_df['ctyua19nm'] == 'Havering'])\n",
    "map_df.drop(map_df[map_df['ctyua19nm'] == 'Havering'].index, inplace = True)\n",
    "london = london.append(map_df[map_df['ctyua19nm'] == 'Hillingdon'])\n",
    "map_df.drop(map_df[map_df['ctyua19nm'] == 'Hillingdon'].index, inplace = True) \n",
    "london = london.append(map_df[map_df['ctyua19nm'] == 'Hounslow'])\n",
    "map_df.drop(map_df[map_df['ctyua19nm'] == 'Hounslow'].index, inplace = True) \n",
    "london = london.append(map_df[map_df['ctyua19nm'] == 'Islington'])\n",
    "map_df.drop(map_df[map_df['ctyua19nm'] == 'Islington'].index, inplace = True) \n",
    "london = london.append(map_df[map_df['ctyua19nm'] == 'Kensington and Chelsea'])\n",
    "map_df.drop(map_df[map_df['ctyua19nm'] == 'Kensington and Chelsea'].index, inplace = True) \n",
    "london = london.append(map_df[map_df['ctyua19nm'] == 'Kingston upon Thames'])\n",
    "map_df.drop(map_df[map_df['ctyua19nm'] == 'Kingston upon Thames'].index, inplace = True) \n",
    "london = london.append(map_df[map_df['ctyua19nm'] == 'Lambeth'])\n",
    "map_df.drop(map_df[map_df['ctyua19nm'] == 'Lambeth'].index, inplace = True) \n",
    "london = london.append(map_df[map_df['ctyua19nm'] == 'Lewisham'])\n",
    "map_df.drop(map_df[map_df['ctyua19nm'] == 'Lewisham'].index, inplace = True) \n",
    "london = london.append(map_df[map_df['ctyua19nm'] == 'Merton'])\n",
    "map_df.drop(map_df[map_df['ctyua19nm'] == 'Merton'].index, inplace = True) \n",
    "london = london.append(map_df[map_df['ctyua19nm'] == 'Newham'])\n",
    "map_df.drop(map_df[map_df['ctyua19nm'] == 'Newham'].index, inplace = True) \n",
    "london = london.append(map_df[map_df['ctyua19nm'] == 'Redbridge'])\n",
    "map_df.drop(map_df[map_df['ctyua19nm'] == 'Redbridge'].index, inplace = True) \n",
    "london = london.append(map_df[map_df['ctyua19nm'] == 'Richmond upon Thames'])\n",
    "map_df.drop(map_df[map_df['ctyua19nm'] == 'Richmond upon Thames'].index, inplace = True) \n",
    "london = london.append(map_df[map_df['ctyua19nm'] == 'Southwark'])\n",
    "map_df.drop(map_df[map_df['ctyua19nm'] == 'Southwark'].index, inplace = True) \n",
    "london = london.append(map_df[map_df['ctyua19nm'] == 'Sutton'])\n",
    "map_df.drop(map_df[map_df['ctyua19nm'] == 'Sutton'].index, inplace = True) \n",
    "london = london.append(map_df[map_df['ctyua19nm'] == 'Tower Hamlets'])\n",
    "map_df.drop(map_df[map_df['ctyua19nm'] == 'Tower Hamlets'].index, inplace = True) \n",
    "london = london.append(map_df[map_df['ctyua19nm'] == 'Waltham Forest'])\n",
    "map_df.drop(map_df[map_df['ctyua19nm'] == 'Waltham Forest'].index, inplace = True) \n",
    "london = london.append(map_df[map_df['ctyua19nm'] == 'Wandsworth'])\n",
    "map_df.drop(map_df[map_df['ctyua19nm'] == 'Wandsworth'].index, inplace = True) \n",
    "london = london.append(map_df[map_df['ctyua19nm'] == 'Westminster'])\n",
    "map_df.drop(map_df[map_df['ctyua19nm'] == 'Westminster'].index, inplace = True) \n",
    "#\n",
    "london = london.assign(area='Greater London')\n",
    "greater_london = london.dissolve(by='area')\n",
    "greater_london[\"ctyua19nm\"] = \"Greater London\"\n",
    "map_df = map_df.append(greater_london)"
   ]
  },
  {
   "cell_type": "code",
   "execution_count": 933,
   "metadata": {},
   "outputs": [],
   "source": [
    "# Need to combine (and then remaove) the following and replace with 'Greater Manchester': 'Bolton' 'Bury'\n",
    "# 'Manchester' 'Oldham' 'Rochdale' 'Salford' 'Stockport' 'Tameside'\n",
    "# 'Trafford' 'Wigan'\n",
    "manchester = map_df[map_df['ctyua19nm'] == 'Bolton']\n",
    "map_df.drop(map_df[map_df['ctyua19nm'] == 'Bolton'].index, inplace = True)  \n",
    "manchester = manchester.append(map_df[map_df['ctyua19nm'] == 'Manchester'])\n",
    "map_df.drop(map_df[map_df['ctyua19nm'] == 'Manchester'].index, inplace = True) \n",
    "eastyorkshire = eastyorkshire.append(map_df[map_df['ctyua19nm'] == 'Bury'])\n",
    "map_df.drop(map_df[map_df['ctyua19nm'] == 'Bury'].index, inplace = True)\n",
    "manchester = manchester.append(map_df[map_df['ctyua19nm'] == 'Oldham'])\n",
    "map_df.drop(map_df[map_df['ctyua19nm'] == 'Oldham'].index, inplace = True) \n",
    "manchester = manchester.append(map_df[map_df['ctyua19nm'] == 'Rochdale'])\n",
    "map_df.drop(map_df[map_df['ctyua19nm'] == 'Rochdale'].index, inplace = True) \n",
    "manchester = manchester.append(map_df[map_df['ctyua19nm'] == 'Salford'])\n",
    "map_df.drop(map_df[map_df['ctyua19nm'] == 'Salford'].index, inplace = True) \n",
    "manchester = manchester.append(map_df[map_df['ctyua19nm'] == 'Stockport'])\n",
    "map_df.drop(map_df[map_df['ctyua19nm'] == 'Stockport'].index, inplace = True) \n",
    "manchester = manchester.append(map_df[map_df['ctyua19nm'] == 'Tameside'])\n",
    "map_df.drop(map_df[map_df['ctyua19nm'] == 'Tameside'].index, inplace = True) \n",
    "manchester = manchester.append(map_df[map_df['ctyua19nm'] == 'Trafford'])\n",
    "map_df.drop(map_df[map_df['ctyua19nm'] == 'Trafford'].index, inplace = True) \n",
    "manchester = manchester.append(map_df[map_df['ctyua19nm'] == 'Wigan'])\n",
    "map_df.drop(map_df[map_df['ctyua19nm'] == 'Wigan'].index, inplace = True) \n",
    "#\n",
    "manchester = manchester.assign(area='Greater Manchester')\n",
    "greater_manchester = manchester.dissolve(by='area')\n",
    "greater_manchester[\"ctyua19nm\"] = \"Greater Manchester\"\n",
    "map_df = map_df.append(greater_manchester)"
   ]
  },
  {
   "cell_type": "code",
   "execution_count": 934,
   "metadata": {},
   "outputs": [],
   "source": [
    "# Need to combine (and then remaove) the following and replace with 'Merseyside':\n",
    "merseyside = map_df[map_df['ctyua19nm'] == 'Knowsley']\n",
    "map_df.drop(map_df[map_df['ctyua19nm'] == 'Knowsley'].index, inplace = True)\n",
    "merseyside = merseyside.append(map_df[map_df['ctyua19nm'] == 'Liverpool'])\n",
    "map_df.drop(map_df[map_df['ctyua19nm'] == 'Liverpool'].index, inplace = True)\n",
    "merseyside = merseyside.append(map_df[map_df['ctyua19nm'] == 'St. Helens'])\n",
    "map_df.drop(map_df[map_df['ctyua19nm'] == 'St. Helens'].index, inplace = True)\n",
    "merseyside = merseyside.append(map_df[map_df['ctyua19nm'] == 'Sefton'])\n",
    "map_df.drop(map_df[map_df['ctyua19nm'] == 'Sefton'].index, inplace = True)\n",
    "merseyside = merseyside.append(map_df[map_df['ctyua19nm'] == 'Wirral'])\n",
    "map_df.drop(map_df[map_df['ctyua19nm'] == 'Wirral'].index, inplace = True)\n",
    "#\n",
    "merseyside = merseyside.assign(area='Merseyside')\n",
    "_merseyside = merseyside.dissolve(by='area')\n",
    "_merseyside[\"ctyua19nm\"] = \"Merseyside\"\n",
    "map_df = map_df.append(_merseyside)"
   ]
  },
  {
   "cell_type": "code",
   "execution_count": 935,
   "metadata": {},
   "outputs": [],
   "source": [
    "# Need to combine (and then remaove) the following and replace with 'Shropshire':\n",
    "shropshire = map_df[map_df['ctyua19nm'] == 'Telford and Wrekin']\n",
    "map_df.drop(map_df[map_df['ctyua19nm'] == 'Telford and Wrekin'].index, inplace = True)\n",
    "shropshire = shropshire.append(map_df[map_df['ctyua19nm'] == 'Bury'])\n",
    "map_df.drop(map_df[map_df['ctyua19nm'] == 'Bury'].index, inplace = True)\n",
    "#\n",
    "shropshire = shropshire.assign(area='Shropshire')\n",
    "_shropshire = shropshire.dissolve(by='area')\n",
    "_shropshire[\"ctyua19nm\"] = \"Shropshire\"\n",
    "map_df = map_df.append(_shropshire)"
   ]
  },
  {
   "cell_type": "code",
   "execution_count": 936,
   "metadata": {},
   "outputs": [],
   "source": [
    "# Need to combine (and then remaove) the following and replace with 'South Yorkshire':\n",
    "southyorkshire = map_df[map_df['ctyua19nm'] == 'Barnsley']\n",
    "map_df.drop(map_df[map_df['ctyua19nm'] == 'Barnsley'].index, inplace = True)\n",
    "southyorkshire = southyorkshire.append(map_df[map_df['ctyua19nm'] == 'Doncaster'])\n",
    "map_df.drop(map_df[map_df['ctyua19nm'] == 'Doncaster'].index, inplace = True)\n",
    "southyorkshire = southyorkshire.append(map_df[map_df['ctyua19nm'] == 'Rotherham'])\n",
    "map_df.drop(map_df[map_df['ctyua19nm'] == 'Rotherham'].index, inplace = True)\n",
    "southyorkshire = southyorkshire.append(map_df[map_df['ctyua19nm'] == 'Sheffield'])\n",
    "map_df.drop(map_df[map_df['ctyua19nm'] == 'Sheffield'].index, inplace = True)\n",
    "#\n",
    "southyorkshire = southyorkshire.assign(area='South Yorkshire')\n",
    "south_yorkshire = southyorkshire.dissolve(by='area')\n",
    "south_yorkshire[\"ctyua19nm\"] = \"South Yorkshire\"\n",
    "map_df = map_df.append(south_yorkshire)"
   ]
  },
  {
   "cell_type": "code",
   "execution_count": 937,
   "metadata": {},
   "outputs": [],
   "source": [
    "# Need to combine (and then remaove) the following and replace with 'Tyne and Wear':\n",
    "tyneandwear = map_df[map_df['ctyua19nm'] == 'South Tyneside']\n",
    "map_df.drop(map_df[map_df['ctyua19nm'] == 'South Tyneside'].index, inplace = True)\n",
    "tyneandwear = tyneandwear.append(map_df[map_df['ctyua19nm'] == 'North Tyneside'])\n",
    "map_df.drop(map_df[map_df['ctyua19nm'] == 'North Tyneside'].index, inplace = True)\n",
    "tyneandwear = tyneandwear.append(map_df[map_df['ctyua19nm'] == 'Newcastle upon Tyne'])\n",
    "map_df.drop(map_df[map_df['ctyua19nm'] == 'Newcastle upon Tyne'].index, inplace = True)\n",
    "tyneandwear = tyneandwear.append(map_df[map_df['ctyua19nm'] == 'Gateshead'])\n",
    "map_df.drop(map_df[map_df['ctyua19nm'] == 'Gateshead'].index, inplace = True)\n",
    "tyneandwear = tyneandwear.append(map_df[map_df['ctyua19nm'] == 'Sunderland'])\n",
    "map_df.drop(map_df[map_df['ctyua19nm'] == 'Sunderland'].index, inplace = True)\n",
    "#\n",
    "tyneandwear = tyneandwear.assign(area='Tyne and Wear')\n",
    "tyne_and_wear = tyneandwear.dissolve(by='area')\n",
    "tyne_and_wear[\"ctyua19nm\"] = \"Tyne and Wear\"\n",
    "map_df = map_df.append(tyne_and_wear)"
   ]
  },
  {
   "cell_type": "code",
   "execution_count": 938,
   "metadata": {},
   "outputs": [],
   "source": [
    "# Need to combine (and then remaove) the following and replace with 'West Midlands':\n",
    "westmidlands = map_df[map_df['ctyua19nm'] == 'Birmingham']\n",
    "map_df.drop(map_df[map_df['ctyua19nm'] == 'Birmingham'].index, inplace = True)\n",
    "westmidlands = westmidlands.append(map_df[map_df['ctyua19nm'] == 'Coventry'])\n",
    "map_df.drop(map_df[map_df['ctyua19nm'] == 'Coventry'].index, inplace = True)\n",
    "westmidlands = westmidlands.append(map_df[map_df['ctyua19nm'] == 'Dudley'])\n",
    "map_df.drop(map_df[map_df['ctyua19nm'] == 'Dudley'].index, inplace = True)\n",
    "westmidlands = westmidlands.append(map_df[map_df['ctyua19nm'] == 'Sandwell'])\n",
    "map_df.drop(map_df[map_df['ctyua19nm'] == 'Sandwell'].index, inplace = True)\n",
    "westmidlands = westmidlands.append(map_df[map_df['ctyua19nm'] == 'Solihull'])\n",
    "map_df.drop(map_df[map_df['ctyua19nm'] == 'Solihull'].index, inplace = True)\n",
    "westmidlands = westmidlands.append(map_df[map_df['ctyua19nm'] == 'Walsall'])\n",
    "map_df.drop(map_df[map_df['ctyua19nm'] == 'Walsall'].index, inplace = True)\n",
    "westmidlands = westmidlands.append(map_df[map_df['ctyua19nm'] == 'Wolverhampton'])\n",
    "map_df.drop(map_df[map_df['ctyua19nm'] == 'Wolverhampton'].index, inplace = True)\n",
    "#\n",
    "westmidlands = westmidlands.assign(area='West Midlands')\n",
    "west_midlands = westmidlands.dissolve(by='area')\n",
    "west_midlands[\"ctyua19nm\"] = \"West Midlands\"\n",
    "map_df = map_df.append(west_midlands)"
   ]
  },
  {
   "cell_type": "code",
   "execution_count": 939,
   "metadata": {},
   "outputs": [],
   "source": [
    "# Need to combine (and then remaove) the following and replace with 'West Yorkshire':\n",
    "westyorkshire = map_df[map_df['ctyua19nm'] == 'Bradford']\n",
    "map_df.drop(map_df[map_df['ctyua19nm'] == 'Bradford'].index, inplace = True)\n",
    "westyorkshire = westyorkshire.append(map_df[map_df['ctyua19nm'] == 'Calderdale'])\n",
    "map_df.drop(map_df[map_df['ctyua19nm'] == 'Calderdale'].index, inplace = True)\n",
    "westyorkshire = westyorkshire.append(map_df[map_df['ctyua19nm'] == 'Kirklees'])\n",
    "map_df.drop(map_df[map_df['ctyua19nm'] == 'Kirklees'].index, inplace = True)\n",
    "westyorkshire = westyorkshire.append(map_df[map_df['ctyua19nm'] == 'Leeds'])\n",
    "map_df.drop(map_df[map_df['ctyua19nm'] == 'Leeds'].index, inplace = True)\n",
    "westyorkshire = westyorkshire.append(map_df[map_df['ctyua19nm'] == 'Wakefield'])\n",
    "map_df.drop(map_df[map_df['ctyua19nm'] == 'Wakefield'].index, inplace = True)\n",
    "#\n",
    "westyorkshire = westyorkshire.assign(area='West Yorkshire')\n",
    "west_yorkshire = westyorkshire.dissolve(by='area')\n",
    "west_yorkshire[\"ctyua19nm\"] = \"West Yorkshire\"\n",
    "map_df = map_df.append(west_yorkshire)"
   ]
  },
  {
   "cell_type": "markdown",
   "metadata": {},
   "source": [
    "Now we'll do a tiny bit of tidying of the county names, just to match what we have in the price paid data."
   ]
  },
  {
   "cell_type": "code",
   "execution_count": 940,
   "metadata": {},
   "outputs": [],
   "source": [
    "map_df[\"ctyua19nm\"] = map_df[\"ctyua19nm\"].str.replace(', City of', '', regex=True)\n",
    "map_df[\"ctyua19nm\"] = map_df[\"ctyua19nm\"].str.replace(', County of', '', regex=True)"
   ]
  },
  {
   "cell_type": "markdown",
   "metadata": {},
   "source": [
    "And see what we've got."
   ]
  },
  {
   "cell_type": "code",
   "execution_count": 941,
   "metadata": {},
   "outputs": [
    {
     "name": "stdout",
     "output_type": "stream",
     "text": [
      "[u'Hartlepool' u'Middlesbrough' u'Redcar and Cleveland'\n",
      " u'Stockton-on-Tees' u'Darlington' u'Halton' u'Warrington'\n",
      " u'Blackburn with Darwen' u'Blackpool' u'Kingston upon Hull'\n",
      " u'East Riding of Yorkshire' u'North East Lincolnshire'\n",
      " u'North Lincolnshire' u'York' u'Derby' u'Leicester' u'Rutland'\n",
      " u'Nottingham' u'Herefordshire' u'Stoke-on-Trent'\n",
      " u'Bath and North East Somerset' u'Bristol' u'North Somerset'\n",
      " u'South Gloucestershire' u'Plymouth' u'Torbay' u'Swindon' u'Peterborough'\n",
      " u'Luton' u'Southend-on-Sea' u'Thurrock' u'Medway' u'Bracknell Forest'\n",
      " u'West Berkshire' u'Reading' u'Slough' u'Windsor and Maidenhead'\n",
      " u'Wokingham' u'Milton Keynes' u'Brighton and Hove' u'Portsmouth'\n",
      " u'Southampton' u'Isle of Wight' u'County Durham' u'Cheshire East'\n",
      " u'Cheshire West and Chester' u'Shropshire' u'Cornwall' u'Isles of Scilly'\n",
      " u'Wiltshire' u'Bedford' u'Central Bedfordshire' u'Northumberland'\n",
      " u'Bournemouth, Christchurch and Poole' u'Dorset' u'Buckinghamshire'\n",
      " u'Cambridgeshire' u'Cumbria' u'Derbyshire' u'Devon' u'East Sussex'\n",
      " u'Essex' u'Gloucestershire' u'Hampshire' u'Hertfordshire' u'Kent'\n",
      " u'Lancashire' u'Leicestershire' u'Lincolnshire' u'Norfolk'\n",
      " u'Northamptonshire' u'North Yorkshire' u'Nottinghamshire' u'Oxfordshire'\n",
      " u'Somerset' u'Staffordshire' u'Suffolk' u'Surrey' u'Warwickshire'\n",
      " u'West Sussex' u'Worcestershire' u'Antrim and Newtownabbey'\n",
      " u'Armagh City, Banbridge and Craigavon' u'Belfast'\n",
      " u'Causeway Coast and Glens' u'Derry City and Strabane'\n",
      " u'Fermanagh and Omagh' u'Lisburn and Castlereagh' u'Mid and East Antrim'\n",
      " u'Mid Ulster' u'Newry, Mourne and Down' u'Ards and North Down'\n",
      " u'Clackmannanshire' u'Dumfries and Galloway' u'East Ayrshire'\n",
      " u'East Lothian' u'East Renfrewshire' u'Na h-Eileanan Siar' u'Falkirk'\n",
      " u'Highland' u'Inverclyde' u'Midlothian' u'Moray' u'North Ayrshire'\n",
      " u'Orkney Islands' u'Scottish Borders' u'Shetland Islands'\n",
      " u'South Ayrshire' u'South Lanarkshire' u'Stirling' u'Aberdeen City'\n",
      " u'Aberdeenshire' u'Argyll and Bute' u'City of Edinburgh' u'Renfrewshire'\n",
      " u'West Dunbartonshire' u'West Lothian' u'Angus' u'Dundee City'\n",
      " u'East Dunbartonshire' u'Fife' u'Perth and Kinross' u'Glasgow City'\n",
      " u'North Lanarkshire' u'Isle of Anglesey' u'Gwynedd' u'Conwy'\n",
      " u'Denbighshire' u'Flintshire' u'Wrexham' u'Ceredigion' u'Pembrokeshire'\n",
      " u'Carmarthenshire' u'Swansea' u'Neath Port Talbot' u'Bridgend'\n",
      " u'Vale of Glamorgan' u'Cardiff' u'Rhondda Cynon Taf' u'Caerphilly'\n",
      " u'Blaenau Gwent' u'Torfaen' u'Monmouthshire' u'Newport' u'Powys'\n",
      " u'Merthyr Tydfil' 'Greater London' 'Greater Manchester' 'Merseyside'\n",
      " 'South Yorkshire' 'Tyne and Wear' 'West Midlands' 'West Yorkshire']\n"
     ]
    }
   ],
   "source": [
    "print(map_df.ctyua19nm.unique())"
   ]
  },
  {
   "cell_type": "markdown",
   "metadata": {},
   "source": [
    "Looks much better and the area names appear to match with the price paid data. This is important because we are going to use these names to merge the two sets of data together in order to plot them on a map.\n",
    "\n",
    "Finally, we use the area name as the index for the geometry data."
   ]
  },
  {
   "cell_type": "code",
   "execution_count": 942,
   "metadata": {},
   "outputs": [
    {
     "data": {
      "text/html": [
       "<div>\n",
       "<style scoped>\n",
       "    .dataframe tbody tr th:only-of-type {\n",
       "        vertical-align: middle;\n",
       "    }\n",
       "\n",
       "    .dataframe tbody tr th {\n",
       "        vertical-align: top;\n",
       "    }\n",
       "\n",
       "    .dataframe thead th {\n",
       "        text-align: right;\n",
       "    }\n",
       "</style>\n",
       "<table border=\"1\" class=\"dataframe\">\n",
       "  <thead>\n",
       "    <tr style=\"text-align: right;\">\n",
       "      <th></th>\n",
       "      <th>geometry</th>\n",
       "    </tr>\n",
       "    <tr>\n",
       "      <th>ctyua19nm</th>\n",
       "      <th></th>\n",
       "    </tr>\n",
       "  </thead>\n",
       "  <tbody>\n",
       "    <tr>\n",
       "      <th>Hartlepool</th>\n",
       "      <td>POLYGON ((447213.900 537036.104, 447228.798 53...</td>\n",
       "    </tr>\n",
       "    <tr>\n",
       "      <th>Middlesbrough</th>\n",
       "      <td>POLYGON ((448489.897 522071.798, 448592.597 52...</td>\n",
       "    </tr>\n",
       "    <tr>\n",
       "      <th>Redcar and Cleveland</th>\n",
       "      <td>POLYGON ((455525.931 528406.654, 455724.632 52...</td>\n",
       "    </tr>\n",
       "    <tr>\n",
       "      <th>Stockton-on-Tees</th>\n",
       "      <td>POLYGON ((444157.002 527956.304, 444165.898 52...</td>\n",
       "    </tr>\n",
       "    <tr>\n",
       "      <th>Darlington</th>\n",
       "      <td>POLYGON ((423496.602 524724.299, 423497.204 52...</td>\n",
       "    </tr>\n",
       "  </tbody>\n",
       "</table>\n",
       "</div>"
      ],
      "text/plain": [
       "                                                               geometry\n",
       "ctyua19nm                                                              \n",
       "Hartlepool            POLYGON ((447213.900 537036.104, 447228.798 53...\n",
       "Middlesbrough         POLYGON ((448489.897 522071.798, 448592.597 52...\n",
       "Redcar and Cleveland  POLYGON ((455525.931 528406.654, 455724.632 52...\n",
       "Stockton-on-Tees      POLYGON ((444157.002 527956.304, 444165.898 52...\n",
       "Darlington            POLYGON ((423496.602 524724.299, 423497.204 52..."
      ]
     },
     "execution_count": 942,
     "metadata": {},
     "output_type": "execute_result"
    }
   ],
   "source": [
    "map_df = map_df.set_index('ctyua19nm')\n",
    "map_df.head()"
   ]
  },
  {
   "cell_type": "markdown",
   "metadata": {},
   "source": [
    "Let's just check that we have geometry data that actually looks like a map."
   ]
  },
  {
   "cell_type": "code",
   "execution_count": 943,
   "metadata": {},
   "outputs": [
    {
     "data": {
      "text/plain": [
       "<matplotlib.axes._subplots.AxesSubplot at 0x7f8d1c0f8510>"
      ]
     },
     "execution_count": 943,
     "metadata": {},
     "output_type": "execute_result"
    },
    {
     "data": {
      "image/png": "[encoded data removed]",
      "text/plain": [
       "<Figure size 432x288 with 1 Axes>"
      ]
     },
     "metadata": {
      "needs_background": "light"
     },
     "output_type": "display_data"
    }
   ],
   "source": [
    "map_df.plot()"
   ]
  },
  {
   "cell_type": "markdown",
   "metadata": {},
   "source": [
    "Yes.\n",
    "\n",
    "OK, now we need to merge the price paid data into the map_df dataframe. We do this with a 'join' which, by default, uses the indexes of the two dataframes as the basis for the merger. In this case, we have used he area name as the index in both the map_df dataframe and the merge_df dataframe so things should just work.\n",
    "\n",
    "When we look at the result, note that some of the mean prices paid can be NaNs - this is because we still have Scotland and Northern Ireland in the map data but we don't have any price paid data for those areas."
   ]
  },
  {
   "cell_type": "code",
   "execution_count": 944,
   "metadata": {},
   "outputs": [
    {
     "data": {
      "text/html": [
       "<div>\n",
       "<style scoped>\n",
       "    .dataframe tbody tr th:only-of-type {\n",
       "        vertical-align: middle;\n",
       "    }\n",
       "\n",
       "    .dataframe tbody tr th {\n",
       "        vertical-align: top;\n",
       "    }\n",
       "\n",
       "    .dataframe thead th {\n",
       "        text-align: right;\n",
       "    }\n",
       "</style>\n",
       "<table border=\"1\" class=\"dataframe\">\n",
       "  <thead>\n",
       "    <tr style=\"text-align: right;\">\n",
       "      <th></th>\n",
       "      <th>geometry</th>\n",
       "      <th>mean_price</th>\n",
       "    </tr>\n",
       "    <tr>\n",
       "      <th>ctyua19nm</th>\n",
       "      <th></th>\n",
       "      <th></th>\n",
       "    </tr>\n",
       "  </thead>\n",
       "  <tbody>\n",
       "    <tr>\n",
       "      <th>Aberdeen City</th>\n",
       "      <td>MULTIPOLYGON (((385726.999 815937.800, 385745....</td>\n",
       "      <td>NaN</td>\n",
       "    </tr>\n",
       "    <tr>\n",
       "      <th>Aberdeenshire</th>\n",
       "      <td>MULTIPOLYGON (((352897.520 868195.600, 352902....</td>\n",
       "      <td>NaN</td>\n",
       "    </tr>\n",
       "    <tr>\n",
       "      <th>Angus</th>\n",
       "      <td>POLYGON ((346942.001 788024.500, 347121.001 78...</td>\n",
       "      <td>NaN</td>\n",
       "    </tr>\n",
       "    <tr>\n",
       "      <th>Antrim and Newtownabbey</th>\n",
       "      <td>POLYGON ((132534.120 554148.854, 132547.852 55...</td>\n",
       "      <td>NaN</td>\n",
       "    </tr>\n",
       "    <tr>\n",
       "      <th>Ards and North Down</th>\n",
       "      <td>MULTIPOLYGON (((158867.138 537823.357, 158868....</td>\n",
       "      <td>NaN</td>\n",
       "    </tr>\n",
       "  </tbody>\n",
       "</table>\n",
       "</div>"
      ],
      "text/plain": [
       "                                                                  geometry  \\\n",
       "ctyua19nm                                                                    \n",
       "Aberdeen City            MULTIPOLYGON (((385726.999 815937.800, 385745....   \n",
       "Aberdeenshire            MULTIPOLYGON (((352897.520 868195.600, 352902....   \n",
       "Angus                    POLYGON ((346942.001 788024.500, 347121.001 78...   \n",
       "Antrim and Newtownabbey  POLYGON ((132534.120 554148.854, 132547.852 55...   \n",
       "Ards and North Down      MULTIPOLYGON (((158867.138 537823.357, 158868....   \n",
       "\n",
       "                         mean_price  \n",
       "ctyua19nm                            \n",
       "Aberdeen City                   NaN  \n",
       "Aberdeenshire                   NaN  \n",
       "Angus                           NaN  \n",
       "Antrim and Newtownabbey         NaN  \n",
       "Ards and North Down             NaN  "
      ]
     },
     "execution_count": 944,
     "metadata": {},
     "output_type": "execute_result"
    }
   ],
   "source": [
    "# join the map_df with the cleaned up merge_df dataframe\n",
    "map_df = map_df.join(merge_df)\n",
    "map_df.head()"
   ]
  },
  {
   "cell_type": "markdown",
   "metadata": {},
   "source": [
    "Finally, let's plot the map. We use 'matplotlib' to control the plot, adding a heading, some annotation and a legend to show what the different colours indicate.\n",
    "\n",
    "Note that we create a second plot so that any areas where the mean_price is NaN, we show it as grey so that it isn't confused as real data."
   ]
  },
  {
   "cell_type": "code",
   "execution_count": 947,
   "metadata": {},
   "outputs": [
    {
     "data": {
      "image/png": "[encoded data removed]",
      "text/plain": [
       "<Figure size 576x864 with 2 Axes>"
      ]
     },
     "metadata": {
      "needs_background": "light"
     },
     "output_type": "display_data"
    }
   ],
   "source": [
    "from mpl_toolkits.axes_grid1 import make_axes_locatable\n",
    "# Set the range for the choropleth\n",
    "vmin, vmax = map_df.mean_price.min(), map_df.mean_price.max()\n",
    "#vmin, vmax = 0, 1000000\n",
    "# Create figure and axes for Matplotlib\n",
    "fig, ax = plt.subplots(1, figsize=(8, 12))\n",
    "ax.set_aspect('equal')\n",
    "# Remove the axis\n",
    "ax.axis('off')\n",
    "divider = make_axes_locatable(ax)\n",
    "cax = divider.append_axes(\"right\", size=\"2%\", pad=1)\n",
    "# Create map\n",
    "map_df.plot(column='mean_price',\n",
    "            cmap='Blues',\n",
    "            legend=True,\n",
    "            linewidth=0.8,\n",
    "            ax=ax,\n",
    "            cax=cax,\n",
    "            edgecolor='0.8',\n",
    "            vmin=vmin, vmax=vmax\n",
    "           )\n",
    "# Add a title\n",
    "ax.set_title('Average house prices in England and Wales 2020',\n",
    "             fontdict={'fontsize': '20', 'fontweight' : '3'})\n",
    "# Create an annotation for the data source\n",
    "ax.annotate('Source: geoportal.statistics.gov.uk, 2020', xy=(0.1, .08),\n",
    "            xycoords='figure fraction', horizontalalignment='left',\n",
    "            verticalalignment='top', fontsize=12, color='#555555')\n",
    "# For any areas where the mean_price is Nan, replot them in grey to show that data is missing.\n",
    "map_df[map_df.mean_price.isnull()].plot(ax=ax, color='0.8', edgecolor='0.8')\n",
    "plt.show()"
   ]
  },
  {
   "cell_type": "code",
   "execution_count": 946,
   "metadata": {},
   "outputs": [],
   "source": [
    "# Used during testing to show any areas where the mean_price is NaN - this\n",
    "# helped to find sub areas that needed merging into the latger areas in the\n",
    "# process above.\n",
    "#df1 = map_df[map_df.isna().any(axis=1)]\n",
    "#np.set_printoptions(threshold=2000)\n",
    "#print(df1)"
   ]
  },
  {
   "cell_type": "markdown",
   "metadata": {},
   "source": [
    "All done."
   ]
  }
 ],
 "metadata": {
  "kernelspec": {
   "display_name": "Python 2",
   "language": "python",
   "name": "python2"
  },
  "language_info": {
   "codemirror_mode": {
    "name": "ipython",
    "version": 2
   },
   "file_extension": ".py",
   "mimetype": "text/x-python",
   "name": "python",
   "nbconvert_exporter": "python",
   "pygments_lexer": "ipython2",
   "version": "2.7.16"
  }
 },
 "nbformat": 4,
 "nbformat_minor": 2
}
